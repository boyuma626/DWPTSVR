import numpy as np
import pickle
x = np.linspace(-2, 2, 100) 
x=x.reshape(-1,1)
def F4_te(x): 
    y= x**4 +1.5*x**2+ 1.5

    return y 

y= F4_te(x) +0.2*np.random.randn(100,1)
from arti_training import training
reg = training(x,y)
reg.fit()
lst1 = reg.fit()
with open('.\\results\\arti_4.pickle', 'wb') as f:
        pickle.dump(lst1, f)
